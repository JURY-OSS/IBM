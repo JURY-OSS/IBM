{
 "cells": [
  {
   "cell_type": "markdown",
   "id": "8b2ff695-c372-4e6e-83d4-c37d273424f4",
   "metadata": {},
   "source": [
    "# Data Science Tools and Ecosystem"
   ]
  },
  {
   "cell_type": "markdown",
   "id": "13687e59-7f8f-49a6-a21e-3e167a05eb70",
   "metadata": {},
   "source": [
    "### In this notebook, Data Science Tools and Ecosystem are summarized."
   ]
  },
  {
   "cell_type": "markdown",
   "id": "718a63d9-b2a9-4e2b-8aa1-1fc1c29d0305",
   "metadata": {},
   "source": [
    "##### **Objectives:**\n",
    "- List popular languages for Data Scientists\n",
    "- List commonly used libraries for Data Scientists\n",
    "- List Data Science Tools"
   ]
  },
  {
   "cell_type": "code",
   "execution_count": null,
   "id": "ef273c3e-d5c3-4be7-9c27-14c905c7eb33",
   "metadata": {},
   "outputs": [],
   "source": [
    "##### Some of the popular languages that Data Scientists use are:\n",
    "1. Python\n",
    "2. R\n",
    "3. SQL"
   ]
  },
  {
   "cell_type": "markdown",
   "id": "362e4204-e1e1-41c9-a1cd-66c1ae5c040c",
   "metadata": {},
   "source": [
    "##### Some of the commonly used libraries used by Data Scientists include:\n",
    "1. Pandas\n",
    "2. NumPy\n",
    "3. Matplotlib"
   ]
  },
  {
   "cell_type": "markdown",
   "id": "c3a6850a-2008-4d10-91ed-c2dcaace7e86",
   "metadata": {},
   "source": [
    "| Data Science Tools |\n",
    "| :-:|\n",
    "| Jupyter Notebook |\n",
    "| VS Code |\n",
    "| RStudio |"
   ]
  },
  {
   "cell_type": "markdown",
   "id": "fa1084bc-6967-413d-9c12-90557a240b79",
   "metadata": {},
   "source": [
    "### Below are a few examples of evaluating arithmetic expressions in Python"
   ]
  },
  {
   "cell_type": "code",
   "execution_count": 2,
   "id": "4c30ffc5-76f7-4a42-8836-024e987ad660",
   "metadata": {},
   "outputs": [
    {
     "data": {
      "text/plain": [
       "17"
      ]
     },
     "execution_count": 2,
     "metadata": {},
     "output_type": "execute_result"
    }
   ],
   "source": [
    "# This is a simple arithmetic expression to muliple two integers, then add another\n",
    "(3*4)+5"
   ]
  },
  {
   "cell_type": "code",
   "execution_count": 3,
   "id": "4b2438c4-770a-435a-ba6e-9affcfd56be3",
   "metadata": {},
   "outputs": [
    {
     "data": {
      "text/plain": [
       "3.3333333333333335"
      ]
     },
     "execution_count": 3,
     "metadata": {},
     "output_type": "execute_result"
    }
   ],
   "source": [
    "# This will convert 200 minutes into the equivalent hours\n",
    "200/60"
   ]
  },
  {
   "cell_type": "markdown",
   "id": "f3ba905d-387e-466e-a025-7b95611a4450",
   "metadata": {},
   "source": [
    "## Author\n",
    "##### Charles Jury"
   ]
  }
 ],
 "metadata": {
  "kernelspec": {
   "display_name": "Python 3 (ipykernel)",
   "language": "python",
   "name": "python3"
  },
  "language_info": {
   "codemirror_mode": {
    "name": "ipython",
    "version": 3
   },
   "file_extension": ".py",
   "mimetype": "text/x-python",
   "name": "python",
   "nbconvert_exporter": "python",
   "pygments_lexer": "ipython3",
   "version": "3.8.2"
  }
 },
 "nbformat": 4,
 "nbformat_minor": 5
}
